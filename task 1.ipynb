{
 "cells": [
  {
   "cell_type": "code",
   "execution_count": null,
   "metadata": {},
   "outputs": [],
   "source": [
    "#create, add an element, remove an element, modify an element from a list\n",
    "my_list=[1,2,3,4,5]\n",
    "my_list.append(6)\n",
    "my_list.remove(3)\n",
    "my_list[0]=10\n",
    "print(\"list:\")\n",
    "print(my_list)\n",
    "create, add an element, remove an element, modify an element from a dictionary\n",
    "my_dict={'a':1,'b':2,'c':3}\n",
    "my_dict['d']=4\n",
    "del my_dict['b']\n",
    "my_dict['a']=100\n",
    "print(my_dict)\n",
    "create, add an element, remove an element, modify an element from a set\n",
    "my_list={1,2,3,4,5}\n",
    "my_set.add(6)\n",
    "my_set.remove(2)\n",
    "print(\"set:\")\n",
    "print(my_set)\n"
   ]
  },
  {
   "cell_type": "code",
   "execution_count": null,
   "metadata": {},
   "outputs": [],
   "source": []
  },
  {
   "cell_type": "code",
   "execution_count": null,
   "metadata": {},
   "outputs": [],
   "source": []
  }
 ],
 "metadata": {
  "language_info": {
   "name": "python"
  }
 },
 "nbformat": 4,
 "nbformat_minor": 2
}
